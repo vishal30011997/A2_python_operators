{
 "cells": [
  {
   "cell_type": "markdown",
   "id": "714230c2-b40d-4863-ab73-0c825eb6e5e0",
   "metadata": {},
   "source": [
    "Q1. Calculate the sum, difference, product, and quotient of two numbers."
   ]
  },
  {
   "cell_type": "code",
   "execution_count": 1,
   "id": "bed7382c-8009-42f8-9a21-6775c926b822",
   "metadata": {},
   "outputs": [
    {
     "name": "stdin",
     "output_type": "stream",
     "text": [
      "Enter 1st number :  20\n",
      "Enter 2nd number :  10\n"
     ]
    },
    {
     "name": "stdout",
     "output_type": "stream",
     "text": [
      "sum :  30\n",
      "difference :  10\n",
      "product :  200\n",
      "quotient :  2.0\n"
     ]
    }
   ],
   "source": [
    "# solution\n",
    "num1 = int(input(\"Enter 1st number : \"))\n",
    "num2 = int(input(\"Enter 2nd number : \"))\n",
    "summation = num1 + num2\n",
    "difference = num1 - num2\n",
    "product = num1 * num2\n",
    "quotient = num1 / num2\n",
    "print(\"sum : \", summation)\n",
    "print(\"difference : \", difference)\n",
    "print(\"product : \", product)\n",
    "print(\"quotient : \", quotient)"
   ]
  },
  {
   "cell_type": "markdown",
   "id": "008b2c07-1d3f-4ece-9cec-ca987b936371",
   "metadata": {},
   "source": [
    "Q2. Perform various assignment operations on a variable."
   ]
  },
  {
   "cell_type": "code",
   "execution_count": 6,
   "id": "83965b2f-3c41-4cfb-a97e-f6c2ecbc4c79",
   "metadata": {},
   "outputs": [
    {
     "name": "stdin",
     "output_type": "stream",
     "text": [
      "Enter 1st number :  10\n",
      "Enter 2nd number :  5\n"
     ]
    },
    {
     "name": "stdout",
     "output_type": "stream",
     "text": [
      "add assignment :  15\n",
      "substract assignment :  10\n",
      "multiplication assignment :  50\n",
      "division assignment :  10.0\n",
      "modulus assignment :  0.0\n"
     ]
    }
   ],
   "source": [
    "# solution\n",
    "x = int(input(\"Enter 1st number : \"))\n",
    "y = int(input(\"Enter 2nd number : \"))\n",
    "# add assignment\n",
    "x += y\n",
    "print(\"add assignment : \", x)\n",
    "# substract assignment\n",
    "x -= y\n",
    "print(\"substract assignment : \", x)\n",
    "# multiplication assignment\n",
    "x *= y\n",
    "print(\"multiplication assignment : \", x)\n",
    "# division assignment\n",
    "x /= y\n",
    "print(\"division assignment : \", x)\n",
    "# modulus assignment\n",
    "x %= y\n",
    "print(\"modulus assignment : \", x)"
   ]
  },
  {
   "cell_type": "code",
   "execution_count": 12,
   "id": "4a348f8a-b2bd-4736-b0c5-3615ab2b4c33",
   "metadata": {},
   "outputs": [
    {
     "name": "stdin",
     "output_type": "stream",
     "text": [
      "Enter 1st number :  14\n",
      "Enter 2nd number :  12\n"
     ]
    },
    {
     "name": "stdout",
     "output_type": "stream",
     "text": [
      "floor assignment :  1\n"
     ]
    }
   ],
   "source": [
    "x = int(input(\"Enter 1st number : \"))\n",
    "y = int(input(\"Enter 2nd number : \"))\n",
    "# div floor assignment\n",
    "x //= y\n",
    "print(\"floor assignment : \", x)"
   ]
  },
  {
   "cell_type": "code",
   "execution_count": 13,
   "id": "560b1426-637e-4f0d-a99d-747842a0bc3c",
   "metadata": {},
   "outputs": [
    {
     "name": "stdin",
     "output_type": "stream",
     "text": [
      "Enter 1st number :  14\n",
      "Enter 2nd number :  10\n"
     ]
    },
    {
     "name": "stdout",
     "output_type": "stream",
     "text": [
      "bitwise AND assignment :  10\n"
     ]
    }
   ],
   "source": [
    "# bitwise AND assignment\n",
    "x = int(input(\"Enter 1st number : \"))\n",
    "y = int(input(\"Enter 2nd number : \"))\n",
    "x &= y\n",
    "print(\"bitwise AND assignment : \", x)"
   ]
  },
  {
   "cell_type": "code",
   "execution_count": 15,
   "id": "1fd94796-1195-42c5-b820-a143d4649535",
   "metadata": {},
   "outputs": [
    {
     "name": "stdin",
     "output_type": "stream",
     "text": [
      "Enter 1st number :  14\n",
      "Enter 2nd number :  10\n"
     ]
    },
    {
     "name": "stdout",
     "output_type": "stream",
     "text": [
      "bitwise OR assignment :  14\n"
     ]
    }
   ],
   "source": [
    "# bitwise OR assignment\n",
    "x = int(input(\"Enter 1st number : \"))\n",
    "y = int(input(\"Enter 2nd number : \"))\n",
    "x |= y\n",
    "print(\"bitwise OR assignment : \", x)"
   ]
  },
  {
   "cell_type": "code",
   "execution_count": 16,
   "id": "03236f9f-c3ca-490c-90da-7c83182cd8f9",
   "metadata": {},
   "outputs": [
    {
     "name": "stdin",
     "output_type": "stream",
     "text": [
      "Enter 1st number :  14\n",
      "Enter 2nd number :  10\n"
     ]
    },
    {
     "name": "stdout",
     "output_type": "stream",
     "text": [
      "bitwise EXOR assignment :  4\n"
     ]
    }
   ],
   "source": [
    "# bitwise EXOR assignment\n",
    "x = int(input(\"Enter 1st number : \"))\n",
    "y = int(input(\"Enter 2nd number : \"))\n",
    "x ^= y\n",
    "print(\"bitwise EXOR assignment : \", x)"
   ]
  },
  {
   "cell_type": "code",
   "execution_count": 17,
   "id": "8406297b-3c8f-420a-9f19-7959641fefe9",
   "metadata": {},
   "outputs": [
    {
     "name": "stdin",
     "output_type": "stream",
     "text": [
      "Enter 1st number :  14\n",
      "Enter 2nd number :  3\n"
     ]
    },
    {
     "name": "stdout",
     "output_type": "stream",
     "text": [
      "bitwise left assignment :  112\n"
     ]
    }
   ],
   "source": [
    "# bitwise left assignment\n",
    "x = int(input(\"Enter 1st number : \"))\n",
    "y = int(input(\"Enter 2nd number : \"))\n",
    "x <<= y\n",
    "print(\"bitwise left assignment : \", x)"
   ]
  },
  {
   "cell_type": "code",
   "execution_count": 18,
   "id": "c3ef4b19-181c-4d26-93cd-9a4eebc09012",
   "metadata": {},
   "outputs": [
    {
     "name": "stdin",
     "output_type": "stream",
     "text": [
      "Enter 1st number :  14\n",
      "Enter 2nd number :  3\n"
     ]
    },
    {
     "name": "stdout",
     "output_type": "stream",
     "text": [
      "bitwise right assignment :  1\n"
     ]
    }
   ],
   "source": [
    "# bitwise right assignment\n",
    "x = int(input(\"Enter 1st number : \"))\n",
    "y = int(input(\"Enter 2nd number : \"))\n",
    "x >>= y\n",
    "print(\"bitwise right assignment : \", x)"
   ]
  },
  {
   "cell_type": "markdown",
   "id": "fce6363b-94eb-480d-898e-71494dd7a1e4",
   "metadata": {},
   "source": [
    "Q3. Compare two numbers and print the results."
   ]
  },
  {
   "cell_type": "code",
   "execution_count": 25,
   "id": "d99751d7-b5d7-48c8-a5f3-f7c32db3206f",
   "metadata": {},
   "outputs": [
    {
     "name": "stdin",
     "output_type": "stream",
     "text": [
      "Enter 1st number :  10\n",
      "Enter 2nd number :  10\n"
     ]
    },
    {
     "name": "stdout",
     "output_type": "stream",
     "text": [
      "Both numbers are equal.\n"
     ]
    }
   ],
   "source": [
    "# soluttion \n",
    "x = int(input(\"Enter 1st number : \"))\n",
    "y = int(input(\"Enter 2nd number : \"))\n",
    "if (x > y) :\n",
    "    print(\"greater number is : \", x)\n",
    "else : \n",
    "    if(y > x) :\n",
    "        print(\"greater number is : \", y)\n",
    "    else :\n",
    "        print(\"Both numbers are equal.\")"
   ]
  },
  {
   "cell_type": "markdown",
   "id": "dd9710d4-e45f-4c36-ae2f-4a3c44b53c05",
   "metadata": {},
   "source": [
    "output 1 : \n",
    "\n",
    "Enter 1st number :  9\n",
    "Enter 2nd number :  3\n",
    "greater number is :  9\n",
    "\n",
    "output 2 :\n",
    "    \n",
    "Enter 1st number :  9\n",
    "Enter 2nd number :  19\n",
    "greater number is :  19\n",
    "\n",
    "output 3 :\n",
    "\n",
    "Enter 1st number :  10\n",
    "Enter 2nd number :  10\n",
    "Both numbers are equal."
   ]
  },
  {
   "cell_type": "markdown",
   "id": "23609a6a-f510-4351-95be-85747642404e",
   "metadata": {},
   "source": [
    "Q4. Check conditions using logical operators."
   ]
  },
  {
   "cell_type": "code",
   "execution_count": 30,
   "id": "104b5273-8da5-426b-badb-f4e817aa4fa0",
   "metadata": {},
   "outputs": [
    {
     "name": "stdin",
     "output_type": "stream",
     "text": [
      "Enter 1st number :  14\n",
      "Enter 2nd number :  10\n"
     ]
    },
    {
     "name": "stdout",
     "output_type": "stream",
     "text": [
      "result using logical AND(&) :  10\n",
      "result using logical OR(|) :  14\n",
      "result using logical NOT :  False\n"
     ]
    }
   ],
   "source": [
    "# solution\n",
    "# logical operators are : AND, OR, NOT.\n",
    "x = int(input(\"Enter 1st number : \"))\n",
    "y = int(input(\"Enter 2nd number : \"))\n",
    "# logical AND\n",
    "z = x & y\n",
    "print(\"result using logical AND(&) : \", z)\n",
    "# logical OR\n",
    "z = x | y\n",
    "print(\"result using logical OR(|) : \", z)\n",
    "# logical NOT\n",
    "z = not x > y\n",
    "print(\"result using logical NOT : \", z)"
   ]
  },
  {
   "cell_type": "markdown",
   "id": "783b4ef9-34ee-453f-92f4-7cc5dbcad7af",
   "metadata": {},
   "source": [
    "Q5. Check the identity of variables."
   ]
  },
  {
   "cell_type": "code",
   "execution_count": 32,
   "id": "cd81e127-b680-45a4-8a4b-990df091e017",
   "metadata": {},
   "outputs": [
    {
     "name": "stdin",
     "output_type": "stream",
     "text": [
      "Enter 1st number :  9\n",
      "Enter 2nd number :  6\n"
     ]
    },
    {
     "data": {
      "text/plain": [
       "False"
      ]
     },
     "execution_count": 32,
     "metadata": {},
     "output_type": "execute_result"
    }
   ],
   "source": [
    "# solution\n",
    "# identity variables check the values at memory location of two object. If the values are same it will return a result \n",
    "# in boolean (that is true or false).\n",
    "x = int(input(\"Enter 1st number : \"))\n",
    "y = int(input(\"Enter 2nd number : \"))\n",
    "x is y "
   ]
  },
  {
   "cell_type": "markdown",
   "id": "974736ae-7c48-463a-a819-d6d382c49716",
   "metadata": {},
   "source": [
    "output 1 : when values stored in two different objects is same.\n",
    "\n",
    "Enter 1st number :  4\n",
    "Enter 2nd number :  4\n",
    "True    \n",
    "\n",
    "output 2 : when values stored in two different objects is not same.\n",
    "\n",
    "Enter 1st number :  9\n",
    "Enter 2nd number :  6\n",
    "False"
   ]
  },
  {
   "cell_type": "markdown",
   "id": "9ee56318-3de6-46ea-9a40-402e77943c4c",
   "metadata": {},
   "source": [
    "Q6. Perform bitwise operations on any two integers."
   ]
  },
  {
   "cell_type": "raw",
   "id": "f449c05a-7be7-4d96-a809-e808f792799c",
   "metadata": {},
   "source": [
    "# solution\n",
    "Bitwise operation is used to perform operations in terms of 0's and 1's\n",
    "There are mainly is six types of bitwise operations.\n",
    "1. Bitwise AND\n",
    "2. Bitwise OR\n",
    "3. Bitwise Negation\n",
    "4. Bitwise EXOR\n",
    "5. Bitwise AND\n",
    "6. Bitwise SHIFT(LEFT and RIGHT)"
   ]
  },
  {
   "cell_type": "code",
   "execution_count": 34,
   "id": "0e3e5d45-b2f7-4d55-ab61-86984c66301a",
   "metadata": {},
   "outputs": [
    {
     "name": "stdin",
     "output_type": "stream",
     "text": [
      "Enter 1st number :  14\n",
      "Enter 2nd number :  10\n"
     ]
    },
    {
     "name": "stdout",
     "output_type": "stream",
     "text": [
      "bitwise AND operation :  10\n"
     ]
    }
   ],
   "source": [
    "# solution Bitwise AND operation\n",
    "x = int(input(\"Enter 1st number : \"))\n",
    "y = int(input(\"Enter 2nd number : \"))\n",
    "z = x & y\n",
    "print(\"bitwise AND operation : \", z)"
   ]
  },
  {
   "cell_type": "code",
   "execution_count": 35,
   "id": "f64196fa-badc-4aff-8b3b-72fc212a2e2b",
   "metadata": {},
   "outputs": [
    {
     "name": "stdin",
     "output_type": "stream",
     "text": [
      "Enter 1st number :  14\n",
      "Enter 2nd number :  10\n"
     ]
    },
    {
     "name": "stdout",
     "output_type": "stream",
     "text": [
      "bitwise OR operation :  14\n"
     ]
    }
   ],
   "source": [
    "# solution Bitwise OR operation\n",
    "x = int(input(\"Enter 1st number : \"))\n",
    "y = int(input(\"Enter 2nd number : \"))\n",
    "z = x | y\n",
    "print(\"bitwise OR operation : \", z)"
   ]
  },
  {
   "cell_type": "code",
   "execution_count": 36,
   "id": "427bc1ec-d012-481a-a9b6-dd8412dba96e",
   "metadata": {},
   "outputs": [
    {
     "name": "stdin",
     "output_type": "stream",
     "text": [
      "Enter 1st number :  100\n"
     ]
    },
    {
     "name": "stdout",
     "output_type": "stream",
     "text": [
      "bitwise Negation operation :  -101\n"
     ]
    }
   ],
   "source": [
    "# solution Bitwise Negation operation\n",
    "x = int(input(\"Enter 1st number : \"))\n",
    "y = ~ x\n",
    "print(\"bitwise Negation operation : \", y)"
   ]
  },
  {
   "cell_type": "code",
   "execution_count": 37,
   "id": "c1c93f2a-f1f5-4194-bd51-f071e9abc0bc",
   "metadata": {},
   "outputs": [
    {
     "name": "stdin",
     "output_type": "stream",
     "text": [
      "Enter 1st number :  14\n",
      "Enter 2nd number :  10\n"
     ]
    },
    {
     "name": "stdout",
     "output_type": "stream",
     "text": [
      "bitwise EXOR operation :  4\n"
     ]
    }
   ],
   "source": [
    "# bitwise EXOR operation\n",
    "x = int(input(\"Enter 1st number : \"))\n",
    "y = int(input(\"Enter 2nd number : \"))\n",
    "x ^= y\n",
    "print(\"bitwise EXOR operation : \", x)"
   ]
  },
  {
   "cell_type": "code",
   "execution_count": 39,
   "id": "0fb43983-dbe5-43b7-8835-aafced8da0d1",
   "metadata": {},
   "outputs": [
    {
     "name": "stdin",
     "output_type": "stream",
     "text": [
      "Enter 1st number :  14\n",
      "Enter 2nd number :  3\n"
     ]
    },
    {
     "name": "stdout",
     "output_type": "stream",
     "text": [
      "bitwise left operation :  112\n"
     ]
    }
   ],
   "source": [
    "# bitwise left operation\n",
    "x = int(input(\"Enter 1st number : \"))\n",
    "y = int(input(\"Enter 2nd number : \"))\n",
    "x <<= y\n",
    "print(\"bitwise left operation : \", x)"
   ]
  },
  {
   "cell_type": "code",
   "execution_count": 40,
   "id": "ab3721c7-09c7-4a3e-b4d1-ad833701f5a3",
   "metadata": {},
   "outputs": [
    {
     "name": "stdin",
     "output_type": "stream",
     "text": [
      "Enter 1st number :  14\n",
      "Enter 2nd number :  3\n"
     ]
    },
    {
     "name": "stdout",
     "output_type": "stream",
     "text": [
      "bitwise right operation :  1\n"
     ]
    }
   ],
   "source": [
    "# bitwise right operation\n",
    "x = int(input(\"Enter 1st number : \"))\n",
    "y = int(input(\"Enter 2nd number : \"))\n",
    "x >>= y\n",
    "print(\"bitwise right operation : \", x)"
   ]
  },
  {
   "cell_type": "markdown",
   "id": "061a3292-e003-486c-b908-4ed2c9671916",
   "metadata": {},
   "source": [
    "Q7.  Use unary operators to change the sign of a number."
   ]
  },
  {
   "cell_type": "markdown",
   "id": "215045b1-222d-4352-a03a-960ca86052a4",
   "metadata": {},
   "source": [
    "solution \n",
    "Unary operator are those operator that works with a single operand."
   ]
  },
  {
   "cell_type": "code",
   "execution_count": 41,
   "id": "ea3608b4-d2c2-4302-bb50-64acf650f5e1",
   "metadata": {},
   "outputs": [
    {
     "name": "stdin",
     "output_type": "stream",
     "text": [
      "Enter 1st number :  4\n"
     ]
    },
    {
     "name": "stdout",
     "output_type": "stream",
     "text": [
      "-4\n"
     ]
    }
   ],
   "source": [
    "x = int(input(\"Enter 1st number : \"))\n",
    "y = - x\n",
    "print (y)"
   ]
  },
  {
   "cell_type": "markdown",
   "id": "f962d56b-0fbf-4fee-8a1d-507f1d267618",
   "metadata": {},
   "source": [
    "Q8. Use the ternary operator to assign values based on conditions."
   ]
  },
  {
   "cell_type": "markdown",
   "id": "d9369bce-e4f3-4af6-a18e-782cfb52f273",
   "metadata": {},
   "source": [
    "# solution\n",
    "Ternary operator in python is simply a shorter way of writing an if and if-else statement. \n",
    "It basically reduce the length of code written using if or if-else statement."
   ]
  },
  {
   "cell_type": "code",
   "execution_count": 45,
   "id": "a8274d3a-cb38-4672-80f4-7cb24bbc612b",
   "metadata": {},
   "outputs": [
    {
     "name": "stdin",
     "output_type": "stream",
     "text": [
      "Enter 1st number :  6\n",
      "Enter 2nd number :  9\n"
     ]
    },
    {
     "name": "stdout",
     "output_type": "stream",
     "text": [
      "y is greater than x\n"
     ]
    }
   ],
   "source": [
    "x = int(input(\"Enter 1st number : \"))\n",
    "y = int(input(\"Enter 2nd number : \"))\n",
    "print(\"Both are equal\" if x == y else \"x is greater than y\" if x > y else \"y is greater than x\")"
   ]
  },
  {
   "cell_type": "markdown",
   "id": "d6a5fd83-a983-4ff1-a900-2737df70a088",
   "metadata": {},
   "source": [
    "output 1 : \n",
    "\n",
    "Enter 1st number :  1\n",
    "Enter 2nd number :  1\n",
    "Both are equal \n",
    "\n",
    "output 2 : \n",
    "    \n",
    "Enter 1st number :  10\n",
    "Enter 2nd number :  9\n",
    "x is greater than y\n",
    "\n",
    "output 3 : \n",
    "\n",
    "Enter 1st number :  6\n",
    "Enter 2nd number :  9\n",
    "y is greater than x"
   ]
  }
 ],
 "metadata": {
  "kernelspec": {
   "display_name": "Python 3 (ipykernel)",
   "language": "python",
   "name": "python3"
  },
  "language_info": {
   "codemirror_mode": {
    "name": "ipython",
    "version": 3
   },
   "file_extension": ".py",
   "mimetype": "text/x-python",
   "name": "python",
   "nbconvert_exporter": "python",
   "pygments_lexer": "ipython3",
   "version": "3.10.8"
  }
 },
 "nbformat": 4,
 "nbformat_minor": 5
}
